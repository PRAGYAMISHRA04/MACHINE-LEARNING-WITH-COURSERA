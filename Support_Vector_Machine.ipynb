{
  "nbformat": 4,
  "nbformat_minor": 0,
  "metadata": {
    "kernelspec": {
      "display_name": "Python 3",
      "language": "python",
      "name": "python3"
    },
    "language_info": {
      "codemirror_mode": {
        "name": "ipython",
        "version": 3
      },
      "file_extension": ".py",
      "mimetype": "text/x-python",
      "name": "python",
      "nbconvert_exporter": "python",
      "pygments_lexer": "ipython3",
      "version": "3.7.1"
    },
    "colab": {
      "name": "Support Vector Machine.ipynb",
      "provenance": [],
      "include_colab_link": true
    }
  },
  "cells": [
    {
      "cell_type": "markdown",
      "metadata": {
        "id": "view-in-github",
        "colab_type": "text"
      },
      "source": [
        "<a href=\"https://colab.research.google.com/github/PRAGYAMISHRA04/MACHINE-LEARNING-WITH-COURSERA/blob/main/Support_Vector_Machine.ipynb\" target=\"_parent\"><img src=\"https://colab.research.google.com/assets/colab-badge.svg\" alt=\"Open In Colab\"/></a>"
      ]
    },
    {
      "cell_type": "markdown",
      "metadata": {
        "id": "buJKeNks3PkO"
      },
      "source": [
        "# Implementation of SVM on GOT data"
      ]
    },
    {
      "cell_type": "markdown",
      "metadata": {
        "id": "Gd0zg4TP3PkQ"
      },
      "source": [
        "Here, we will use Game of Thrones Character data set to identify whether the character is alive or dead based on various features."
      ]
    },
    {
      "cell_type": "code",
      "metadata": {
        "id": "DTxDG1MH3PkR"
      },
      "source": [
        "#Import required libraries\n",
        "import pandas as pd\n",
        "from sklearn.model_selection import train_test_split                      #To split train and test dataset\n",
        "from sklearn import svm                                                   #To implement svm model\n",
        "from sklearn.metrics import accuracy_score                                #To measure accuracy score"
      ],
      "execution_count": null,
      "outputs": []
    },
    {
      "cell_type": "code",
      "metadata": {
        "id": "yxNsWKLl3PkR",
        "outputId": "591daeed-b2d0-40b8-fb59-69c8299da5c7"
      },
      "source": [
        "#Load the data\n",
        "df_orig = pd.read_csv(\"character-predictions_pose.csv\")\n",
        "df = df_orig\n",
        "df.head()"
      ],
      "execution_count": null,
      "outputs": [
        {
          "output_type": "execute_result",
          "data": {
            "text/html": [
              "<div>\n",
              "<style scoped>\n",
              "    .dataframe tbody tr th:only-of-type {\n",
              "        vertical-align: middle;\n",
              "    }\n",
              "\n",
              "    .dataframe tbody tr th {\n",
              "        vertical-align: top;\n",
              "    }\n",
              "\n",
              "    .dataframe thead th {\n",
              "        text-align: right;\n",
              "    }\n",
              "</style>\n",
              "<table border=\"1\" class=\"dataframe\">\n",
              "  <thead>\n",
              "    <tr style=\"text-align: right;\">\n",
              "      <th></th>\n",
              "      <th>S.No</th>\n",
              "      <th>plod</th>\n",
              "      <th>name</th>\n",
              "      <th>title</th>\n",
              "      <th>male</th>\n",
              "      <th>culture</th>\n",
              "      <th>dateOfBirth</th>\n",
              "      <th>DateoFdeath</th>\n",
              "      <th>mother</th>\n",
              "      <th>father</th>\n",
              "      <th>...</th>\n",
              "      <th>isAliveHeir</th>\n",
              "      <th>isAliveSpouse</th>\n",
              "      <th>isMarried</th>\n",
              "      <th>isNoble</th>\n",
              "      <th>age</th>\n",
              "      <th>numDeadRelations</th>\n",
              "      <th>boolDeadRelations</th>\n",
              "      <th>isPopular</th>\n",
              "      <th>popularity</th>\n",
              "      <th>isAlive</th>\n",
              "    </tr>\n",
              "  </thead>\n",
              "  <tbody>\n",
              "    <tr>\n",
              "      <th>0</th>\n",
              "      <td>1</td>\n",
              "      <td>0.946</td>\n",
              "      <td>Viserys II Targaryen</td>\n",
              "      <td>NaN</td>\n",
              "      <td>1</td>\n",
              "      <td>NaN</td>\n",
              "      <td>NaN</td>\n",
              "      <td>NaN</td>\n",
              "      <td>Rhaenyra Targaryen</td>\n",
              "      <td>Daemon Targaryen</td>\n",
              "      <td>...</td>\n",
              "      <td>0.0</td>\n",
              "      <td>NaN</td>\n",
              "      <td>0</td>\n",
              "      <td>0</td>\n",
              "      <td>NaN</td>\n",
              "      <td>11</td>\n",
              "      <td>1</td>\n",
              "      <td>1</td>\n",
              "      <td>0.605351</td>\n",
              "      <td>0</td>\n",
              "    </tr>\n",
              "    <tr>\n",
              "      <th>1</th>\n",
              "      <td>2</td>\n",
              "      <td>0.613</td>\n",
              "      <td>Walder Frey</td>\n",
              "      <td>Lord of the Crossing</td>\n",
              "      <td>1</td>\n",
              "      <td>Rivermen</td>\n",
              "      <td>208.0</td>\n",
              "      <td>NaN</td>\n",
              "      <td>NaN</td>\n",
              "      <td>NaN</td>\n",
              "      <td>...</td>\n",
              "      <td>NaN</td>\n",
              "      <td>1.0</td>\n",
              "      <td>1</td>\n",
              "      <td>1</td>\n",
              "      <td>97.0</td>\n",
              "      <td>1</td>\n",
              "      <td>1</td>\n",
              "      <td>1</td>\n",
              "      <td>0.896321</td>\n",
              "      <td>1</td>\n",
              "    </tr>\n",
              "    <tr>\n",
              "      <th>2</th>\n",
              "      <td>3</td>\n",
              "      <td>0.507</td>\n",
              "      <td>Addison Hill</td>\n",
              "      <td>Ser</td>\n",
              "      <td>1</td>\n",
              "      <td>NaN</td>\n",
              "      <td>NaN</td>\n",
              "      <td>NaN</td>\n",
              "      <td>NaN</td>\n",
              "      <td>NaN</td>\n",
              "      <td>...</td>\n",
              "      <td>NaN</td>\n",
              "      <td>NaN</td>\n",
              "      <td>0</td>\n",
              "      <td>1</td>\n",
              "      <td>NaN</td>\n",
              "      <td>0</td>\n",
              "      <td>0</td>\n",
              "      <td>0</td>\n",
              "      <td>0.267559</td>\n",
              "      <td>1</td>\n",
              "    </tr>\n",
              "    <tr>\n",
              "      <th>3</th>\n",
              "      <td>4</td>\n",
              "      <td>0.924</td>\n",
              "      <td>Aemma Arryn</td>\n",
              "      <td>Queen</td>\n",
              "      <td>0</td>\n",
              "      <td>NaN</td>\n",
              "      <td>82.0</td>\n",
              "      <td>105.0</td>\n",
              "      <td>NaN</td>\n",
              "      <td>NaN</td>\n",
              "      <td>...</td>\n",
              "      <td>NaN</td>\n",
              "      <td>0.0</td>\n",
              "      <td>1</td>\n",
              "      <td>1</td>\n",
              "      <td>23.0</td>\n",
              "      <td>0</td>\n",
              "      <td>0</td>\n",
              "      <td>0</td>\n",
              "      <td>0.183946</td>\n",
              "      <td>0</td>\n",
              "    </tr>\n",
              "    <tr>\n",
              "      <th>4</th>\n",
              "      <td>5</td>\n",
              "      <td>0.383</td>\n",
              "      <td>Sylva Santagar</td>\n",
              "      <td>Greenstone</td>\n",
              "      <td>0</td>\n",
              "      <td>Dornish</td>\n",
              "      <td>276.0</td>\n",
              "      <td>NaN</td>\n",
              "      <td>NaN</td>\n",
              "      <td>NaN</td>\n",
              "      <td>...</td>\n",
              "      <td>NaN</td>\n",
              "      <td>1.0</td>\n",
              "      <td>1</td>\n",
              "      <td>1</td>\n",
              "      <td>29.0</td>\n",
              "      <td>0</td>\n",
              "      <td>0</td>\n",
              "      <td>0</td>\n",
              "      <td>0.043478</td>\n",
              "      <td>1</td>\n",
              "    </tr>\n",
              "  </tbody>\n",
              "</table>\n",
              "<p>5 rows × 30 columns</p>\n",
              "</div>"
            ],
            "text/plain": [
              "   S.No   plod                  name                 title  male   culture  \\\n",
              "0     1  0.946  Viserys II Targaryen                   NaN     1       NaN   \n",
              "1     2  0.613           Walder Frey  Lord of the Crossing     1  Rivermen   \n",
              "2     3  0.507          Addison Hill                   Ser     1       NaN   \n",
              "3     4  0.924           Aemma Arryn                 Queen     0       NaN   \n",
              "4     5  0.383        Sylva Santagar            Greenstone     0   Dornish   \n",
              "\n",
              "   dateOfBirth  DateoFdeath              mother            father   ...     \\\n",
              "0          NaN          NaN  Rhaenyra Targaryen  Daemon Targaryen   ...      \n",
              "1        208.0          NaN                 NaN               NaN   ...      \n",
              "2          NaN          NaN                 NaN               NaN   ...      \n",
              "3         82.0        105.0                 NaN               NaN   ...      \n",
              "4        276.0          NaN                 NaN               NaN   ...      \n",
              "\n",
              "  isAliveHeir isAliveSpouse isMarried  isNoble   age  numDeadRelations  \\\n",
              "0         0.0           NaN         0        0   NaN                11   \n",
              "1         NaN           1.0         1        1  97.0                 1   \n",
              "2         NaN           NaN         0        1   NaN                 0   \n",
              "3         NaN           0.0         1        1  23.0                 0   \n",
              "4         NaN           1.0         1        1  29.0                 0   \n",
              "\n",
              "   boolDeadRelations  isPopular  popularity  isAlive  \n",
              "0                  1          1    0.605351        0  \n",
              "1                  1          1    0.896321        1  \n",
              "2                  0          0    0.267559        1  \n",
              "3                  0          0    0.183946        0  \n",
              "4                  0          0    0.043478        1  \n",
              "\n",
              "[5 rows x 30 columns]"
            ]
          },
          "metadata": {
            "tags": []
          },
          "execution_count": 57
        }
      ]
    },
    {
      "cell_type": "code",
      "metadata": {
        "id": "DA50udKz3PkS",
        "outputId": "3ba1234b-5673-4ef3-d80c-58f2358ad1f8"
      },
      "source": [
        "df.shape"
      ],
      "execution_count": null,
      "outputs": [
        {
          "output_type": "execute_result",
          "data": {
            "text/plain": [
              "(1946, 30)"
            ]
          },
          "metadata": {
            "tags": []
          },
          "execution_count": 58
        }
      ]
    },
    {
      "cell_type": "code",
      "metadata": {
        "id": "AAsQPEz73PkS",
        "outputId": "ba3717de-d738-4d42-e32b-95219b3f4275"
      },
      "source": [
        "df.info()"
      ],
      "execution_count": null,
      "outputs": [
        {
          "output_type": "stream",
          "text": [
            "<class 'pandas.core.frame.DataFrame'>\n",
            "RangeIndex: 1946 entries, 0 to 1945\n",
            "Data columns (total 30 columns):\n",
            "S.No                 1946 non-null int64\n",
            "plod                 1946 non-null float64\n",
            "name                 1946 non-null object\n",
            "title                938 non-null object\n",
            "male                 1946 non-null int64\n",
            "culture              677 non-null object\n",
            "dateOfBirth          433 non-null float64\n",
            "DateoFdeath          444 non-null float64\n",
            "mother               21 non-null object\n",
            "father               26 non-null object\n",
            "heir                 23 non-null object\n",
            "house                1519 non-null object\n",
            "spouse               276 non-null object\n",
            "book1                1946 non-null int64\n",
            "book2                1946 non-null int64\n",
            "book3                1946 non-null int64\n",
            "book4                1946 non-null int64\n",
            "book5                1946 non-null int64\n",
            "isAliveMother        21 non-null float64\n",
            "isAliveFather        26 non-null float64\n",
            "isAliveHeir          23 non-null float64\n",
            "isAliveSpouse        276 non-null float64\n",
            "isMarried            1946 non-null int64\n",
            "isNoble              1946 non-null int64\n",
            "age                  433 non-null float64\n",
            "numDeadRelations     1946 non-null int64\n",
            "boolDeadRelations    1946 non-null int64\n",
            "isPopular            1946 non-null int64\n",
            "popularity           1946 non-null float64\n",
            "isAlive              1946 non-null int64\n",
            "dtypes: float64(9), int64(13), object(8)\n",
            "memory usage: 395.3+ KB\n"
          ],
          "name": "stdout"
        }
      ]
    },
    {
      "cell_type": "code",
      "metadata": {
        "id": "VFgtUDDM3PkT",
        "outputId": "2ee45a41-3ddf-4954-fd9c-6450eb27a9fe"
      },
      "source": [
        "#Remove identity columns\n",
        "#Data contains few rows where age is negative which is not possible, so remove such rows\n",
        "\n",
        "removecolumns = ['S.No', 'name', 'title', 'culture', 'DateoFdeath', 'mother', 'father', 'heir', 'house', 'spouse', 'age']\n",
        "df = df.drop(columns=removecolumns)\n",
        "df.head()"
      ],
      "execution_count": null,
      "outputs": [
        {
          "output_type": "execute_result",
          "data": {
            "text/html": [
              "<div>\n",
              "<style scoped>\n",
              "    .dataframe tbody tr th:only-of-type {\n",
              "        vertical-align: middle;\n",
              "    }\n",
              "\n",
              "    .dataframe tbody tr th {\n",
              "        vertical-align: top;\n",
              "    }\n",
              "\n",
              "    .dataframe thead th {\n",
              "        text-align: right;\n",
              "    }\n",
              "</style>\n",
              "<table border=\"1\" class=\"dataframe\">\n",
              "  <thead>\n",
              "    <tr style=\"text-align: right;\">\n",
              "      <th></th>\n",
              "      <th>plod</th>\n",
              "      <th>male</th>\n",
              "      <th>dateOfBirth</th>\n",
              "      <th>book1</th>\n",
              "      <th>book2</th>\n",
              "      <th>book3</th>\n",
              "      <th>book4</th>\n",
              "      <th>book5</th>\n",
              "      <th>isAliveMother</th>\n",
              "      <th>isAliveFather</th>\n",
              "      <th>isAliveHeir</th>\n",
              "      <th>isAliveSpouse</th>\n",
              "      <th>isMarried</th>\n",
              "      <th>isNoble</th>\n",
              "      <th>numDeadRelations</th>\n",
              "      <th>boolDeadRelations</th>\n",
              "      <th>isPopular</th>\n",
              "      <th>popularity</th>\n",
              "      <th>isAlive</th>\n",
              "    </tr>\n",
              "  </thead>\n",
              "  <tbody>\n",
              "    <tr>\n",
              "      <th>0</th>\n",
              "      <td>0.946</td>\n",
              "      <td>1</td>\n",
              "      <td>NaN</td>\n",
              "      <td>0</td>\n",
              "      <td>0</td>\n",
              "      <td>0</td>\n",
              "      <td>0</td>\n",
              "      <td>0</td>\n",
              "      <td>1.0</td>\n",
              "      <td>0.0</td>\n",
              "      <td>0.0</td>\n",
              "      <td>NaN</td>\n",
              "      <td>0</td>\n",
              "      <td>0</td>\n",
              "      <td>11</td>\n",
              "      <td>1</td>\n",
              "      <td>1</td>\n",
              "      <td>0.605351</td>\n",
              "      <td>0</td>\n",
              "    </tr>\n",
              "    <tr>\n",
              "      <th>1</th>\n",
              "      <td>0.613</td>\n",
              "      <td>1</td>\n",
              "      <td>208.0</td>\n",
              "      <td>1</td>\n",
              "      <td>1</td>\n",
              "      <td>1</td>\n",
              "      <td>1</td>\n",
              "      <td>1</td>\n",
              "      <td>NaN</td>\n",
              "      <td>NaN</td>\n",
              "      <td>NaN</td>\n",
              "      <td>1.0</td>\n",
              "      <td>1</td>\n",
              "      <td>1</td>\n",
              "      <td>1</td>\n",
              "      <td>1</td>\n",
              "      <td>1</td>\n",
              "      <td>0.896321</td>\n",
              "      <td>1</td>\n",
              "    </tr>\n",
              "    <tr>\n",
              "      <th>2</th>\n",
              "      <td>0.507</td>\n",
              "      <td>1</td>\n",
              "      <td>NaN</td>\n",
              "      <td>0</td>\n",
              "      <td>0</td>\n",
              "      <td>0</td>\n",
              "      <td>1</td>\n",
              "      <td>0</td>\n",
              "      <td>NaN</td>\n",
              "      <td>NaN</td>\n",
              "      <td>NaN</td>\n",
              "      <td>NaN</td>\n",
              "      <td>0</td>\n",
              "      <td>1</td>\n",
              "      <td>0</td>\n",
              "      <td>0</td>\n",
              "      <td>0</td>\n",
              "      <td>0.267559</td>\n",
              "      <td>1</td>\n",
              "    </tr>\n",
              "    <tr>\n",
              "      <th>3</th>\n",
              "      <td>0.924</td>\n",
              "      <td>0</td>\n",
              "      <td>82.0</td>\n",
              "      <td>0</td>\n",
              "      <td>0</td>\n",
              "      <td>0</td>\n",
              "      <td>0</td>\n",
              "      <td>0</td>\n",
              "      <td>NaN</td>\n",
              "      <td>NaN</td>\n",
              "      <td>NaN</td>\n",
              "      <td>0.0</td>\n",
              "      <td>1</td>\n",
              "      <td>1</td>\n",
              "      <td>0</td>\n",
              "      <td>0</td>\n",
              "      <td>0</td>\n",
              "      <td>0.183946</td>\n",
              "      <td>0</td>\n",
              "    </tr>\n",
              "    <tr>\n",
              "      <th>4</th>\n",
              "      <td>0.383</td>\n",
              "      <td>0</td>\n",
              "      <td>276.0</td>\n",
              "      <td>0</td>\n",
              "      <td>0</td>\n",
              "      <td>0</td>\n",
              "      <td>1</td>\n",
              "      <td>0</td>\n",
              "      <td>NaN</td>\n",
              "      <td>NaN</td>\n",
              "      <td>NaN</td>\n",
              "      <td>1.0</td>\n",
              "      <td>1</td>\n",
              "      <td>1</td>\n",
              "      <td>0</td>\n",
              "      <td>0</td>\n",
              "      <td>0</td>\n",
              "      <td>0.043478</td>\n",
              "      <td>1</td>\n",
              "    </tr>\n",
              "  </tbody>\n",
              "</table>\n",
              "</div>"
            ],
            "text/plain": [
              "    plod  male  dateOfBirth  book1  book2  book3  book4  book5  isAliveMother  \\\n",
              "0  0.946     1          NaN      0      0      0      0      0            1.0   \n",
              "1  0.613     1        208.0      1      1      1      1      1            NaN   \n",
              "2  0.507     1          NaN      0      0      0      1      0            NaN   \n",
              "3  0.924     0         82.0      0      0      0      0      0            NaN   \n",
              "4  0.383     0        276.0      0      0      0      1      0            NaN   \n",
              "\n",
              "   isAliveFather  isAliveHeir  isAliveSpouse  isMarried  isNoble  \\\n",
              "0            0.0          0.0            NaN          0        0   \n",
              "1            NaN          NaN            1.0          1        1   \n",
              "2            NaN          NaN            NaN          0        1   \n",
              "3            NaN          NaN            0.0          1        1   \n",
              "4            NaN          NaN            1.0          1        1   \n",
              "\n",
              "   numDeadRelations  boolDeadRelations  isPopular  popularity  isAlive  \n",
              "0                11                  1          1    0.605351        0  \n",
              "1                 1                  1          1    0.896321        1  \n",
              "2                 0                  0          0    0.267559        1  \n",
              "3                 0                  0          0    0.183946        0  \n",
              "4                 0                  0          0    0.043478        1  "
            ]
          },
          "metadata": {
            "tags": []
          },
          "execution_count": 60
        }
      ]
    },
    {
      "cell_type": "code",
      "metadata": {
        "id": "3vuWj3l93PkT",
        "outputId": "4d4edea9-354c-4742-f4bb-9cff799fbc88"
      },
      "source": [
        "df.isna().sum()"
      ],
      "execution_count": null,
      "outputs": [
        {
          "output_type": "execute_result",
          "data": {
            "text/plain": [
              "plod                    0\n",
              "male                    0\n",
              "dateOfBirth          1513\n",
              "book1                   0\n",
              "book2                   0\n",
              "book3                   0\n",
              "book4                   0\n",
              "book5                   0\n",
              "isAliveMother        1925\n",
              "isAliveFather        1920\n",
              "isAliveHeir          1923\n",
              "isAliveSpouse        1670\n",
              "isMarried               0\n",
              "isNoble                 0\n",
              "numDeadRelations        0\n",
              "boolDeadRelations       0\n",
              "isPopular               0\n",
              "popularity              0\n",
              "isAlive                 0\n",
              "dtype: int64"
            ]
          },
          "metadata": {
            "tags": []
          },
          "execution_count": 61
        }
      ]
    },
    {
      "cell_type": "code",
      "metadata": {
        "id": "4TYim8nD3PkT",
        "outputId": "1d905c36-677b-48d8-d348-1426ecaaf329"
      },
      "source": [
        "#Remove above columns where null value pecentage is high\n",
        "\n",
        "list2 = ['dateOfBirth', 'isAliveMother', 'isAliveFather', 'isAliveHeir', 'isAliveSpouse']\n",
        "\n",
        "df = df.drop(columns=list2)\n",
        "df.isna().sum()"
      ],
      "execution_count": null,
      "outputs": [
        {
          "output_type": "execute_result",
          "data": {
            "text/plain": [
              "plod                 0\n",
              "male                 0\n",
              "book1                0\n",
              "book2                0\n",
              "book3                0\n",
              "book4                0\n",
              "book5                0\n",
              "isMarried            0\n",
              "isNoble              0\n",
              "numDeadRelations     0\n",
              "boolDeadRelations    0\n",
              "isPopular            0\n",
              "popularity           0\n",
              "isAlive              0\n",
              "dtype: int64"
            ]
          },
          "metadata": {
            "tags": []
          },
          "execution_count": 62
        }
      ]
    },
    {
      "cell_type": "code",
      "metadata": {
        "id": "S-xRJ2g33PkU",
        "outputId": "4bf881fe-c47a-40e1-e46a-6a481d5bae21"
      },
      "source": [
        "df.shape"
      ],
      "execution_count": null,
      "outputs": [
        {
          "output_type": "execute_result",
          "data": {
            "text/plain": [
              "(1946, 14)"
            ]
          },
          "metadata": {
            "tags": []
          },
          "execution_count": 68
        }
      ]
    },
    {
      "cell_type": "code",
      "metadata": {
        "id": "_FUJ08JG3PkU"
      },
      "source": [
        "#Seperate dependent and independent variables\n",
        "x = df.drop(columns=['isAlive'])\n",
        "y = df['isAlive']"
      ],
      "execution_count": null,
      "outputs": []
    },
    {
      "cell_type": "code",
      "metadata": {
        "id": "NWgKyKBv3PkU"
      },
      "source": [
        "#Split the datset into train and test dataset\n",
        "\n",
        "xtrain, xtest, ytrain, ytest = train_test_split(x, y, test_size = 0.2)"
      ],
      "execution_count": null,
      "outputs": []
    },
    {
      "cell_type": "code",
      "metadata": {
        "id": "SaNEVi2B3PkU",
        "outputId": "ba1b7c6a-1555-4fad-9572-c768686b5ce2"
      },
      "source": [
        "print(xtrain.shape)\n",
        "print(xtest.shape)\n",
        "print(ytrain.shape)\n",
        "print(ytest.shape)"
      ],
      "execution_count": null,
      "outputs": [
        {
          "output_type": "stream",
          "text": [
            "(1556, 13)\n",
            "(390, 13)\n",
            "(1556,)\n",
            "(390,)\n"
          ],
          "name": "stdout"
        }
      ]
    },
    {
      "cell_type": "code",
      "metadata": {
        "id": "DSD-Bzk03PkV"
      },
      "source": [
        "#Train SVM model on train dataset\n",
        "\n",
        "classifier = svm.SVC()\n",
        "classifier = classifier.fit(xtrain, ytrain)"
      ],
      "execution_count": null,
      "outputs": []
    },
    {
      "cell_type": "code",
      "metadata": {
        "id": "FO0ZIpJu3PkV",
        "outputId": "4b0db860-7bca-4f17-bd5b-a067ea97497d"
      },
      "source": [
        "classifier"
      ],
      "execution_count": null,
      "outputs": [
        {
          "output_type": "execute_result",
          "data": {
            "text/plain": [
              "SVC(C=1.0, cache_size=200, class_weight=None, coef0=0.0,\n",
              "  decision_function_shape='ovr', degree=3, gamma='auto', kernel='rbf',\n",
              "  max_iter=-1, probability=False, random_state=None, shrinking=True,\n",
              "  tol=0.001, verbose=False)"
            ]
          },
          "metadata": {
            "tags": []
          },
          "execution_count": 70
        }
      ]
    },
    {
      "cell_type": "code",
      "metadata": {
        "id": "xhe3Kr_V3PkV"
      },
      "source": [
        "#Predict on test data using the model\n",
        "pred1 = classifier.predict(xtest)"
      ],
      "execution_count": null,
      "outputs": []
    },
    {
      "cell_type": "code",
      "metadata": {
        "id": "zhioN0vW3PkV",
        "outputId": "2c25c70a-4469-4022-a73a-aa417ed53087"
      },
      "source": [
        "#Check the accuracy of the model\n",
        "\n",
        "acc1 = accuracy_score(pred1, ytest)\n",
        "print(acc1)"
      ],
      "execution_count": null,
      "outputs": [
        {
          "output_type": "stream",
          "text": [
            "0.8051282051282052\n"
          ],
          "name": "stdout"
        }
      ]
    },
    {
      "cell_type": "code",
      "metadata": {
        "id": "lbIZwIrE3PkW"
      },
      "source": [
        "#Lets create a function to build a svm model, predict on test data and give the accuracy score\n",
        "\n",
        "def svmclassifier(xtrain, ytrain,xtest, ytest, kernel, cvalue, gammavalue):\n",
        "    mod = svm.SVC(kernel = kernel, C = cvalue, gamma = gammavalue)\n",
        "    mod = mod.fit(xtrain, ytrain)\n",
        "    pred = mod.predict(xtest)\n",
        "    acc = accuracy_score(pred, ytest)\n",
        "    print(\"Accuray of model is :\", acc)"
      ],
      "execution_count": null,
      "outputs": []
    },
    {
      "cell_type": "code",
      "metadata": {
        "id": "Qp3HgL5b3PkW"
      },
      "source": [
        "#Lets build the model for various parameters of c and gamma values"
      ],
      "execution_count": null,
      "outputs": []
    },
    {
      "cell_type": "code",
      "metadata": {
        "id": "tgnM5URG3PkW",
        "outputId": "2c89c1ae-80c2-43a4-cb4d-746fc12b2c46"
      },
      "source": [
        "mod1 = svmclassifier(xtrain, ytrain, xtest, ytest, 'rbf', 1, 0.1)"
      ],
      "execution_count": null,
      "outputs": [
        {
          "output_type": "stream",
          "text": [
            "('Accuray of model is :', 0.8179487179487179)\n"
          ],
          "name": "stdout"
        }
      ]
    },
    {
      "cell_type": "code",
      "metadata": {
        "id": "VnH56YTz3PkW",
        "outputId": "68344b79-5f6d-4b28-ac43-241adffda723"
      },
      "source": [
        "mod1 = svmclassifier(xtrain, ytrain, xtest, ytest, 'rbf', 1, 1)"
      ],
      "execution_count": null,
      "outputs": [
        {
          "output_type": "stream",
          "text": [
            "('Accuray of model is :', 0.8076923076923077)\n"
          ],
          "name": "stdout"
        }
      ]
    },
    {
      "cell_type": "code",
      "metadata": {
        "id": "rZaFuUxM3PkX",
        "outputId": "c359c490-ae9c-493d-8720-41632f6797bc"
      },
      "source": [
        "mod1 = svmclassifier(xtrain, ytrain, xtest, ytest, 'rbf', 1, 10)"
      ],
      "execution_count": null,
      "outputs": [
        {
          "output_type": "stream",
          "text": [
            "('Accuray of model is :', 0.7948717948717948)\n"
          ],
          "name": "stdout"
        }
      ]
    },
    {
      "cell_type": "code",
      "metadata": {
        "id": "cjpDqIdQ3PkX",
        "outputId": "ab45c817-04d0-4643-b3d5-911293b03142"
      },
      "source": [
        "mod1 = svmclassifier(xtrain, ytrain, xtest, ytest, 'rbf', 1, 100)"
      ],
      "execution_count": null,
      "outputs": [
        {
          "output_type": "stream",
          "text": [
            "('Accuray of model is :', 0.7871794871794872)\n"
          ],
          "name": "stdout"
        }
      ]
    },
    {
      "cell_type": "code",
      "metadata": {
        "id": "eyY-f9d03PkX",
        "outputId": "6baf479c-c360-4e3e-df62-fe95c37f846f"
      },
      "source": [
        "mod1 = svmclassifier(xtrain, ytrain, xtest, ytest, 'rbf', 10, 0.1)"
      ],
      "execution_count": null,
      "outputs": [
        {
          "output_type": "stream",
          "text": [
            "('Accuray of model is :', 0.8128205128205128)\n"
          ],
          "name": "stdout"
        }
      ]
    },
    {
      "cell_type": "code",
      "metadata": {
        "id": "jnN9mUt73PkX",
        "outputId": "bdb61222-159f-4966-b537-1d305f5eab16"
      },
      "source": [
        "mod1 = svmclassifier(xtrain, ytrain, xtest, ytest, 'rbf', 100, 0.1)"
      ],
      "execution_count": null,
      "outputs": [
        {
          "output_type": "stream",
          "text": [
            "('Accuray of model is :', 0.8)\n"
          ],
          "name": "stdout"
        }
      ]
    },
    {
      "cell_type": "code",
      "metadata": {
        "id": "Dhnqcm8U3PkX",
        "outputId": "e05fd269-6ab1-4e07-f1c0-7937a4c86ef1"
      },
      "source": [
        "mod1 = svmclassifier(xtrain, ytrain, xtest, ytest, 'rbf', 1000, 0.1)"
      ],
      "execution_count": null,
      "outputs": [
        {
          "output_type": "stream",
          "text": [
            "('Accuray of model is :', 0.7897435897435897)\n"
          ],
          "name": "stdout"
        }
      ]
    },
    {
      "cell_type": "code",
      "metadata": {
        "id": "3bG3sLUM3PkX",
        "outputId": "08147721-972f-4ca3-f4e3-7c29692ffde7"
      },
      "source": [
        "mod1 = svmclassifier(xtrain, ytrain, xtest, ytest, 'rbf', 10000, 0.1)"
      ],
      "execution_count": null,
      "outputs": [
        {
          "output_type": "stream",
          "text": [
            "('Accuray of model is :', 0.7897435897435897)\n"
          ],
          "name": "stdout"
        }
      ]
    },
    {
      "cell_type": "code",
      "metadata": {
        "id": "H-A8Coz53PkY",
        "outputId": "5052fcf9-3b13-4b1c-a586-c05dd81f32be"
      },
      "source": [
        "#Based on above observations, we get the best model for c = 10, gamma = 0.1\n",
        "mod1 = svmclassifier(xtrain, ytrain, xtest, ytest, 'rbf', 10, 0.1)"
      ],
      "execution_count": null,
      "outputs": [
        {
          "output_type": "stream",
          "text": [
            "('Accuray of model is :', 0.8128205128205128)\n"
          ],
          "name": "stdout"
        }
      ]
    },
    {
      "cell_type": "code",
      "metadata": {
        "id": "NfAGRrDX3PkY"
      },
      "source": [
        ""
      ],
      "execution_count": null,
      "outputs": []
    }
  ]
}